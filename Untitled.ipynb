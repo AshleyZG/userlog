{
 "cells": [
  {
   "cell_type": "code",
   "execution_count": 17,
   "id": "b2c6976b-aece-40d5-a54b-b1f9b9d3c1e2",
   "metadata": {
    "delta": [
     {
      "delta": [
       {
        "insert": "f"
       }
      ],
      "time": 3169
     },
     {
      "delta": [
       {
        "retain": 1
       },
       {
        "insert": "a"
       }
      ],
      "time": 3214
     },
     {
      "delta": [
       {
        "retain": 2
       },
       {
        "insert": "s"
       }
      ],
      "time": 3341
     },
     {
      "delta": [
       {
        "retain": 3
       },
       {
        "insert": "d"
       }
      ],
      "time": 3502
     },
     {
      "delta": [
       {
        "retain": 4
       },
       {
        "insert": "f"
       }
      ],
      "time": 3612
     },
     {
      "delta": [
       {
        "retain": 5
       },
       {
        "insert": "w"
       }
      ],
      "time": 3798
     },
     {
      "delta": [
       {
        "retain": 6
       },
       {
        "insert": "e"
       }
      ],
      "time": 3896
     },
     {
      "delta": [
       {
        "retain": 7
       },
       {
        "insert": "f"
       }
      ],
      "time": 4058
     },
     {
      "delta": [
       {
        "retain": 8
       },
       {
        "insert": "c"
       }
      ],
      "time": 4331
     },
     {
      "delta": [
       {
        "delete": 9
       }
      ],
      "time": 18963
     },
     {
      "delta": [
       {
        "insert": "d"
       }
      ],
      "time": 37799982
     },
     {
      "delta": [
       {
        "retain": 1
       },
       {
        "insert": "e"
       }
      ],
      "time": 37800094
     },
     {
      "delta": [
       {
        "retain": 2
       },
       {
        "insert": "f"
       }
      ],
      "time": 37800262
     },
     {
      "delta": [
       {
        "retain": 3
       },
       {
        "insert": " "
       }
      ],
      "time": 37803066
     },
     {
      "delta": [
       {
        "retain": 4
       },
       {
        "insert": "s"
       }
      ],
      "time": 37803240
     },
     {
      "delta": [
       {
        "retain": 5
       },
       {
        "insert": "o"
       }
      ],
      "time": 37803346
     },
     {
      "delta": [
       {
        "retain": 6
       },
       {
        "insert": "l"
       }
      ],
      "time": 37803512
     },
     {
      "delta": [
       {
        "retain": 7
       },
       {
        "insert": "u"
       }
      ],
      "time": 37803677
     },
     {
      "delta": [
       {
        "retain": 8
       },
       {
        "insert": "t"
       }
      ],
      "time": 37803962
     },
     {
      "delta": [
       {
        "retain": 9
       },
       {
        "insert": "i"
       }
      ],
      "time": 37804048
     },
     {
      "delta": [
       {
        "retain": 10
       },
       {
        "insert": "o"
       }
      ],
      "time": 37804124
     },
     {
      "delta": [
       {
        "retain": 11
       },
       {
        "insert": "n"
       }
      ],
      "time": 37804230
     },
     {
      "delta": [
       {
        "retain": 12
       },
       {
        "insert": "("
       }
      ],
      "time": 37804465
     },
     {
      "delta": [
       {
        "retain": 13
       },
       {
        "insert": ")"
       }
      ],
      "time": 37804530
     }
    ],
    "tags": []
   },
   "outputs": [
    {
     "ename": "NameError",
     "evalue": "name 'a' is not defined",
     "output_type": "error",
     "traceback": [
      "\u001b[0;31m---------------------------------------------------------------------------\u001b[0m",
      "\u001b[0;31mNameError\u001b[0m                                 Traceback (most recent call last)",
      "Cell \u001b[0;32mIn [17], line 1\u001b[0m\n\u001b[0;32m----> 1\u001b[0m a\n\u001b[1;32m      2\u001b[0m \u001b[38;5;28;01mdef\u001b[39;00m \u001b[38;5;21msolution\u001b[39m():\n\u001b[1;32m      3\u001b[0m     \u001b[38;5;28mprint\u001b[39m(a)\n",
      "\u001b[0;31mNameError\u001b[0m: name 'a' is not defined"
     ]
    }
   ],
   "source": [
    "a\n",
    "def solution():\n",
    "    print(a)"
   ]
  },
  {
   "cell_type": "code",
   "execution_count": null,
   "id": "fb59d145-7c13-45cc-a510-1ab59af1222d",
   "metadata": {
    "delta": [
     {
      "delta": [
       {
        "insert": "d"
       }
      ],
      "time": 3715
     },
     {
      "delta": [
       {
        "retain": 1
       },
       {
        "insert": "e"
       }
      ],
      "time": 3881
     },
     {
      "delta": [
       {
        "retain": 2
       },
       {
        "insert": "f"
       }
      ],
      "time": 4269
     },
     {
      "delta": [
       {
        "retain": 3
       },
       {
        "insert": " "
       }
      ],
      "time": 4346
     },
     {
      "delta": [
       {
        "retain": 4
       },
       {
        "insert": "s"
       }
      ],
      "time": 4462
     },
     {
      "delta": [
       {
        "retain": 5
       },
       {
        "insert": "o"
       }
      ],
      "time": 4538
     },
     {
      "delta": [
       {
        "retain": 6
       },
       {
        "insert": "l"
       }
      ],
      "time": 4728
     },
     {
      "delta": [
       {
        "retain": 7
       },
       {
        "insert": "u"
       }
      ],
      "time": 4919
     },
     {
      "delta": [
       {
        "retain": 8
       },
       {
        "insert": "t"
       }
      ],
      "time": 5071
     },
     {
      "delta": [
       {
        "retain": 9
       },
       {
        "insert": "i"
       }
      ],
      "time": 5175
     },
     {
      "delta": [
       {
        "retain": 10
       },
       {
        "insert": "o"
       }
      ],
      "time": 5275
     },
     {
      "delta": [
       {
        "retain": 11
       },
       {
        "insert": "n"
       }
      ],
      "time": 5351
     },
     {
      "delta": [
       {
        "retain": 12
       },
       {
        "insert": "("
       }
      ],
      "time": 5595
     },
     {
      "delta": [
       {
        "retain": 13
       },
       {
        "insert": ")"
       }
      ],
      "time": 5667
     },
     {
      "delta": [
       {
        "retain": 14
       },
       {
        "insert": ":"
       }
      ],
      "time": 6436
     },
     {
      "delta": [
       {
        "retain": 15
       },
       {
        "insert": "\n    "
       }
      ],
      "time": 6575
     },
     {
      "delta": [
       {
        "retain": 20
       },
       {
        "insert": "p"
       }
      ],
      "time": 7035
     },
     {
      "delta": [
       {
        "retain": 21
       },
       {
        "insert": "r"
       }
      ],
      "time": 7188
     },
     {
      "delta": [
       {
        "retain": 22
       },
       {
        "insert": "i"
       }
      ],
      "time": 7224
     },
     {
      "delta": [
       {
        "retain": 23
       },
       {
        "insert": "n"
       }
      ],
      "time": 7350
     },
     {
      "delta": [
       {
        "retain": 24
       },
       {
        "insert": "t"
       }
      ],
      "time": 7397
     },
     {
      "delta": [
       {
        "retain": 25
       },
       {
        "insert": "("
       }
      ],
      "time": 7619
     },
     {
      "delta": [
       {
        "retain": 26
       },
       {
        "insert": ")"
       }
      ],
      "time": 7691
     },
     {
      "delta": [
       {
        "retain": 26
       },
       {
        "insert": "a"
       }
      ],
      "time": 8275
     },
     {
      "output": [],
      "time": 10410
     },
     {
      "output": [],
      "time": 10415
     },
     {
      "output": [],
      "time": 17281
     },
     {
      "output": [],
      "time": 17284
     },
     {
      "delta": [
       {
        "insert": "\\"
       }
      ],
      "time": 25020
     },
     {
      "delta": [
       {
        "retain": 1
       },
       {
        "insert": "\n"
       }
      ],
      "time": 25028
     },
     {
      "delta": [
       {
        "delete": 1
       }
      ],
      "time": 26792
     },
     {
      "delta": [
       {
        "insert": "a"
       }
      ],
      "time": 26967
     },
     {
      "output": [],
      "time": 27492
     },
     {
      "output": [],
      "time": 27496
     },
     {
      "output": [
       {
        "ename": "NameError",
        "evalue": "name 'a' is not defined",
        "output_type": "error",
        "traceback": [
         "\u001b[0;31m---------------------------------------------------------------------------\u001b[0m",
         "\u001b[0;31mNameError\u001b[0m                                 Traceback (most recent call last)",
         "Cell \u001b[0;32mIn [17], line 1\u001b[0m\n\u001b[0;32m----> 1\u001b[0m a\n\u001b[1;32m      2\u001b[0m \u001b[38;5;28;01mdef\u001b[39;00m \u001b[38;5;21msolution\u001b[39m():\n\u001b[1;32m      3\u001b[0m     \u001b[38;5;28mprint\u001b[39m(a)\n",
         "\u001b[0;31mNameError\u001b[0m: name 'a' is not defined"
        ]
       }
      ],
      "time": 28606
     }
    ]
   },
   "outputs": [],
   "source": []
  }
 ],
 "metadata": {
  "kernelspec": {
   "display_name": "Python 3 (ipykernel)",
   "language": "python",
   "name": "python3"
  },
  "language_info": {
   "codemirror_mode": {
    "name": "ipython",
    "version": 3
   },
   "file_extension": ".py",
   "mimetype": "text/x-python",
   "name": "python",
   "nbconvert_exporter": "python",
   "pygments_lexer": "ipython3",
   "version": "3.10.6"
  }
 },
 "nbformat": 4,
 "nbformat_minor": 5
}
